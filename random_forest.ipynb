{
 "cells": [
  {
   "cell_type": "code",
   "execution_count": 41,
   "id": "542bd67f",
   "metadata": {},
   "outputs": [],
   "source": [
    "import pandas as pd\n",
    "import numpy as np\n",
    "import matplotlib.pyplot as plt\n",
    "import seaborn as sns\n",
    "# !pip install -U spacy\n",
    "# !python -m spacy download en_core_web_sm\n",
    "import spacy\n",
    "from sklearn.model_selection import train_test_split\n",
    "from sklearn.ensemble import RandomForestClassifier\n",
    "from sklearn.metrics import accuracy_score, classification_report\n",
    "from sklearn.feature_extraction.text import TfidfVectorizer\n",
    "from sklearn.preprocessing import OneHotEncoder, LabelEncoder\n",
    "from scipy.sparse import hstack"
   ]
  },
  {
   "cell_type": "code",
   "execution_count": 4,
   "id": "70b8eb30",
   "metadata": {},
   "outputs": [],
   "source": [
    "df = pd.read_csv(\"final_data.csv\")"
   ]
  },
  {
   "cell_type": "code",
   "execution_count": 6,
   "id": "5ec2f6bb",
   "metadata": {},
   "outputs": [
    {
     "name": "stdout",
     "output_type": "stream",
     "text": [
      "<class 'pandas.core.frame.DataFrame'>\n",
      "RangeIndex: 36016 entries, 0 to 36015\n",
      "Data columns (total 27 columns):\n",
      " #   Column               Non-Null Count  Dtype  \n",
      "---  ------               --------------  -----  \n",
      " 0   ACCIDENT_TYPE        36016 non-null  object \n",
      " 1   ACTIVITY_CD          36016 non-null  float64\n",
      " 2   CAL_QTR              36016 non-null  int64  \n",
      " 3   CAL_YR               36016 non-null  int64  \n",
      " 4   COAL_METAL_IND       36016 non-null  object \n",
      " 5   DAYS_LOST            36016 non-null  float64\n",
      " 6   DAYS_RESTRICT        36016 non-null  float64\n",
      " 7   DEGREE_INJURY_CD     36016 non-null  float64\n",
      " 8   DOCUMENT_NO          36016 non-null  int64  \n",
      " 9   EQUIP_MFR_CD         36016 non-null  float64\n",
      " 10  FIPS_STATE_CD        36016 non-null  int64  \n",
      " 11  FISCAL_QTR           36016 non-null  int64  \n",
      " 12  FISCAL_YR            36016 non-null  int64  \n",
      " 13  INJ_BODY_PART_CD     36016 non-null  float64\n",
      " 14  INJURY_SOURCE_CD     36016 non-null  float64\n",
      " 15  JOB_EXPER            36016 non-null  float64\n",
      " 16  MINE_EXPER           36016 non-null  float64\n",
      " 17  NATURE_INJURY_CD     36016 non-null  float64\n",
      " 18  NO_INJURIES          36016 non-null  int64  \n",
      " 19  OCCUPATION_CD        36016 non-null  float64\n",
      " 20  SCHEDULE_CHARGE      36016 non-null  float64\n",
      " 21  SUBUNIT_CD           36016 non-null  int64  \n",
      " 22  TOT_EXPER            36016 non-null  float64\n",
      " 23  UG_LOCATION_CD       36016 non-null  float64\n",
      " 24  UG_MINING_METHOD_CD  36016 non-null  float64\n",
      " 25  NARRATIVE            36016 non-null  object \n",
      " 26  CLASSIFICATION       36016 non-null  object \n",
      "dtypes: float64(15), int64(8), object(4)\n",
      "memory usage: 7.4+ MB\n"
     ]
    }
   ],
   "source": [
    "df.info()"
   ]
  },
  {
   "cell_type": "code",
   "execution_count": 19,
   "id": "93a82f85",
   "metadata": {},
   "outputs": [],
   "source": [
    "nlp = spacy.load(\"en_core_web_sm\")"
   ]
  },
  {
   "cell_type": "code",
   "execution_count": 20,
   "id": "f37b1f20",
   "metadata": {},
   "outputs": [],
   "source": [
    "# Dataframe df with the column narrative containing the sentence\n",
    "df[\"tokens\"] = df[\"NARRATIVE\"].apply(lambda text: [token.text for token in nlp(text) if not token.is_stop])"
   ]
  },
  {
   "cell_type": "code",
   "execution_count": 23,
   "id": "7cc616db",
   "metadata": {},
   "outputs": [],
   "source": [
    "# Convert the tokenized text back together\n",
    "df[\"processed_narrative\"] = df[\"tokens\"].apply(lambda tokens: ' '.join(tokens))"
   ]
  },
  {
   "cell_type": "code",
   "execution_count": 25,
   "id": "f2eb1cb3",
   "metadata": {},
   "outputs": [
    {
     "name": "stdout",
     "output_type": "stream",
     "text": [
      "Accuracy: 0.8424486396446419\n",
      "                                  precision    recall  f1-score   support\n",
      "\n",
      "                      ELECTRICAL       0.87      0.39      0.54        69\n",
      "                      ENTRAPMENT       1.00      0.86      0.92        50\n",
      "EXPLODING VESSELS UNDER PRESSURE       0.00      0.00      0.00        35\n",
      "  EXPLOSIVES AND BREAKING AGENTS       1.00      0.14      0.25         7\n",
      "                  FIRE/EXPLOSION       0.88      0.87      0.88       159\n",
      "           HANDLING OF MATERIALS       0.83      0.96      0.89      4523\n",
      "                         HAULAGE       0.87      0.47      0.61       760\n",
      "                      INUNDATION       0.92      0.41      0.56        27\n",
      "                           OTHER       0.89      0.21      0.34       164\n",
      "          SLIP OR FALL OF PERSON       0.86      0.79      0.82      1403\n",
      "                           TOXIC       0.00      0.00      0.00         7\n",
      "\n",
      "                        accuracy                           0.84      7204\n",
      "                       macro avg       0.74      0.46      0.53      7204\n",
      "                    weighted avg       0.84      0.84      0.83      7204\n",
      "\n"
     ]
    },
    {
     "name": "stderr",
     "output_type": "stream",
     "text": [
      "C:\\Users\\srija\\anaconda3\\lib\\site-packages\\sklearn\\metrics\\_classification.py:1318: UndefinedMetricWarning: Precision and F-score are ill-defined and being set to 0.0 in labels with no predicted samples. Use `zero_division` parameter to control this behavior.\n",
      "  _warn_prf(average, modifier, msg_start, len(result))\n",
      "C:\\Users\\srija\\anaconda3\\lib\\site-packages\\sklearn\\metrics\\_classification.py:1318: UndefinedMetricWarning: Precision and F-score are ill-defined and being set to 0.0 in labels with no predicted samples. Use `zero_division` parameter to control this behavior.\n",
      "  _warn_prf(average, modifier, msg_start, len(result))\n",
      "C:\\Users\\srija\\anaconda3\\lib\\site-packages\\sklearn\\metrics\\_classification.py:1318: UndefinedMetricWarning: Precision and F-score are ill-defined and being set to 0.0 in labels with no predicted samples. Use `zero_division` parameter to control this behavior.\n",
      "  _warn_prf(average, modifier, msg_start, len(result))\n"
     ]
    }
   ],
   "source": [
    "# Separate features (tokenized text) and target (accident classification)\n",
    "X = df[\"processed_narrative\"]\n",
    "y = df[\"CLASSIFICATION\"]\n",
    "\n",
    "# Split the data into training and testing sets\n",
    "X_train, X_test, y_train, y_test = train_test_split(X, y, test_size=0.2, random_state=42)\n",
    "\n",
    "# Vectorize the text data (e.g., using TF-IDF)\n",
    "vectorizer = TfidfVectorizer()\n",
    "X_train_vec = vectorizer.fit_transform(X_train)\n",
    "X_test_vec = vectorizer.transform(X_test)\n",
    "\n",
    "# Train the Random Forest model\n",
    "rf_model = RandomForestClassifier(n_estimators=10, random_state=42)\n",
    "rf_model.fit(X_train_vec, y_train)\n",
    "\n",
    "# Make predictions on the test set\n",
    "y_pred = rf_model.predict(X_test_vec)\n",
    "\n",
    "# Evaluate the model\n",
    "accuracy = accuracy_score(y_test, y_pred)\n",
    "print(\"Accuracy:\", accuracy)\n",
    "print(classification_report(y_test, y_pred))"
   ]
  },
  {
   "cell_type": "code",
   "execution_count": 48,
   "id": "30e4988a",
   "metadata": {},
   "outputs": [
    {
     "data": {
      "text/plain": [
       "Index(['ACCIDENT_TYPE', 'COAL_METAL_IND'], dtype='object')"
      ]
     },
     "execution_count": 48,
     "metadata": {},
     "output_type": "execute_result"
    }
   ],
   "source": [
    "categorical_columns = df.drop([\"processed_narrative\",\"tokens\",\"CLASSIFICATION\",\"NARRATIVE\"],axis =1).select_dtypes(include='object').columns\n",
    "categorical_columns"
   ]
  },
  {
   "cell_type": "code",
   "execution_count": 29,
   "id": "bb5da64f",
   "metadata": {},
   "outputs": [
    {
     "name": "stdout",
     "output_type": "stream",
     "text": [
      "Accuracy: 0.9094947251526929\n",
      "                                  precision    recall  f1-score   support\n",
      "\n",
      "                      ELECTRICAL       0.98      0.77      0.86        69\n",
      "                      ENTRAPMENT       0.98      0.88      0.93        50\n",
      "EXPLODING VESSELS UNDER PRESSURE       0.00      0.00      0.00        35\n",
      "  EXPLOSIVES AND BREAKING AGENTS       0.00      0.00      0.00         7\n",
      "                  FIRE/EXPLOSION       0.89      0.92      0.90       159\n",
      "           HANDLING OF MATERIALS       0.90      0.97      0.94      4523\n",
      "                         HAULAGE       0.93      0.61      0.74       760\n",
      "                      INUNDATION       0.95      0.78      0.86        27\n",
      "                           OTHER       0.97      0.70      0.81       164\n",
      "          SLIP OR FALL OF PERSON       0.91      0.94      0.92      1403\n",
      "                           TOXIC       0.00      0.00      0.00         7\n",
      "\n",
      "                        accuracy                           0.91      7204\n",
      "                       macro avg       0.68      0.60      0.63      7204\n",
      "                    weighted avg       0.91      0.91      0.90      7204\n",
      "\n"
     ]
    },
    {
     "name": "stderr",
     "output_type": "stream",
     "text": [
      "C:\\Users\\srija\\anaconda3\\lib\\site-packages\\sklearn\\metrics\\_classification.py:1318: UndefinedMetricWarning: Precision and F-score are ill-defined and being set to 0.0 in labels with no predicted samples. Use `zero_division` parameter to control this behavior.\n",
      "  _warn_prf(average, modifier, msg_start, len(result))\n",
      "C:\\Users\\srija\\anaconda3\\lib\\site-packages\\sklearn\\metrics\\_classification.py:1318: UndefinedMetricWarning: Precision and F-score are ill-defined and being set to 0.0 in labels with no predicted samples. Use `zero_division` parameter to control this behavior.\n",
      "  _warn_prf(average, modifier, msg_start, len(result))\n",
      "C:\\Users\\srija\\anaconda3\\lib\\site-packages\\sklearn\\metrics\\_classification.py:1318: UndefinedMetricWarning: Precision and F-score are ill-defined and being set to 0.0 in labels with no predicted samples. Use `zero_division` parameter to control this behavior.\n",
      "  _warn_prf(average, modifier, msg_start, len(result))\n"
     ]
    }
   ],
   "source": [
    "# Separate features (tokenized text) and target (accident classification)\n",
    "X_text = df[\"processed_narrative\"]\n",
    "X_text_vec = vectorizer.transform(X_text)\n",
    "\n",
    "#UG_LOCATION, UG_MINING_METHOD, UG_MINING_METHOD, MINING_EQUIP, EQUIP_MFR_NAME,IMMED_NOTIFY_CD,IMMED_NOTIFY\n",
    "\n",
    "# Select multiple categorical columns\n",
    "#categorical_columns = df.drop([\"NARRATIVE\",\"IMMED_NOTIFY\",\"IMMED_NOTIFY_CD\",\"EQUIP_MFR_NAME\",\"MINING_EQUIP\",\"UG_MINING_METHOD\",\"UG_MINING_METHOD\",\"UG_LOCATION\",\"processed_narrative\",\"tokens\",\"CLASSIFICATION\"],axis =1).select_dtypes(include='object').columns\n",
    "\n",
    "# One-hot encode the categorical columns\n",
    "encoder = OneHotEncoder(handle_unknown=\"ignore\")\n",
    "X_categorical = encoder.fit_transform(df[categorical_columns])\n",
    "\n",
    "# Combine text and categorical features\n",
    "X_combined = hstack((X_text_vec, X_categorical))\n",
    "\n",
    "# Split the data into training and testing sets\n",
    "X_train, X_test, y_train, y_test = train_test_split(X_combined, y, test_size=0.2, random_state=42)\n",
    "\n",
    "# Train the Random Forest model\n",
    "rf_model = RandomForestClassifier(n_estimators=100, random_state=42)\n",
    "rf_model.fit(X_train, y_train)\n",
    "\n",
    "# Make predictions on the test set\n",
    "y_pred = rf_model.predict(X_test)\n",
    "\n",
    "# Evaluate the model\n",
    "accuracy = accuracy_score(y_test, y_pred)\n",
    "print(\"Accuracy:\", accuracy)\n",
    "print(classification_report(y_test, y_pred))"
   ]
  },
  {
   "cell_type": "code",
   "execution_count": 31,
   "id": "cda3540e",
   "metadata": {},
   "outputs": [
    {
     "name": "stdout",
     "output_type": "stream",
     "text": [
      "Accuracy: 0.9122709605774569\n",
      "                                  precision    recall  f1-score   support\n",
      "\n",
      "                      ELECTRICAL       1.00      0.65      0.79        69\n",
      "                      ENTRAPMENT       0.98      0.86      0.91        50\n",
      "EXPLODING VESSELS UNDER PRESSURE       0.00      0.00      0.00        35\n",
      "  EXPLOSIVES AND BREAKING AGENTS       0.00      0.00      0.00         7\n",
      "                  FIRE/EXPLOSION       0.88      0.90      0.89       159\n",
      "           HANDLING OF MATERIALS       0.90      0.98      0.94      4523\n",
      "                         HAULAGE       0.97      0.62      0.76       760\n",
      "                      INUNDATION       0.96      0.81      0.88        27\n",
      "                           OTHER       0.99      0.73      0.84       164\n",
      "          SLIP OR FALL OF PERSON       0.92      0.93      0.93      1403\n",
      "                           TOXIC       0.00      0.00      0.00         7\n",
      "\n",
      "                        accuracy                           0.91      7204\n",
      "                       macro avg       0.69      0.59      0.63      7204\n",
      "                    weighted avg       0.91      0.91      0.91      7204\n",
      "\n"
     ]
    },
    {
     "name": "stderr",
     "output_type": "stream",
     "text": [
      "C:\\Users\\srija\\anaconda3\\lib\\site-packages\\sklearn\\metrics\\_classification.py:1318: UndefinedMetricWarning: Precision and F-score are ill-defined and being set to 0.0 in labels with no predicted samples. Use `zero_division` parameter to control this behavior.\n",
      "  _warn_prf(average, modifier, msg_start, len(result))\n",
      "C:\\Users\\srija\\anaconda3\\lib\\site-packages\\sklearn\\metrics\\_classification.py:1318: UndefinedMetricWarning: Precision and F-score are ill-defined and being set to 0.0 in labels with no predicted samples. Use `zero_division` parameter to control this behavior.\n",
      "  _warn_prf(average, modifier, msg_start, len(result))\n",
      "C:\\Users\\srija\\anaconda3\\lib\\site-packages\\sklearn\\metrics\\_classification.py:1318: UndefinedMetricWarning: Precision and F-score are ill-defined and being set to 0.0 in labels with no predicted samples. Use `zero_division` parameter to control this behavior.\n",
      "  _warn_prf(average, modifier, msg_start, len(result))\n"
     ]
    }
   ],
   "source": [
    "# Separate features (tokenized text) and target (accident classification)\n",
    "X_text = df[\"processed_narrative\"]\n",
    "X_text_vec = vectorizer.transform(X_text)\n",
    "\n",
    "# One-hot encode the categorical columns\n",
    "encoder = OneHotEncoder(handle_unknown=\"ignore\")\n",
    "X_categorical = encoder.fit_transform(df[categorical_columns])\n",
    "\n",
    "numerical_columns = df.select_dtypes(include=['int64', 'float64']).columns\n",
    "X_numerical = df[numerical_columns]\n",
    "\n",
    "# Combine text and categorical features\n",
    "X_combined = hstack((X_text_vec, X_categorical, X_numerical))\n",
    "\n",
    "# Split the data into training and testing sets\n",
    "X_train, X_test, y_train, y_test = train_test_split(X_combined, y, test_size=0.2, random_state=42)\n",
    "\n",
    "# Train the Random Forest model\n",
    "rf_model = RandomForestClassifier(n_estimators=100, random_state=42)\n",
    "rf_model.fit(X_train, y_train)\n",
    "\n",
    "# Make predictions on the test set\n",
    "y_pred = rf_model.predict(X_test)\n",
    "\n",
    "# Evaluate the model\n",
    "accuracy = accuracy_score(y_test, y_pred)\n",
    "print(\"Accuracy:\", accuracy)\n",
    "print(classification_report(y_test, y_pred))"
   ]
  },
  {
   "cell_type": "code",
   "execution_count": 40,
   "id": "f417eb02",
   "metadata": {},
   "outputs": [
    {
     "name": "stdout",
     "output_type": "stream",
     "text": [
      "\n",
      "Feature Importances (Categorical Data):\n",
      "ACCIDENT_TYPE_Absorption of radiations, caustics, toxic and noxious substances: 0.0006566095320560297\n",
      "ACCIDENT_TYPE_Accident type, without injuries: 0.008990153177210526\n",
      "ACCIDENT_TYPE_Bodily reaction, NEC: 0.004454448394665901\n",
      "ACCIDENT_TYPE_Caught in, under or between NEC: 0.0009792053542140838\n",
      "ACCIDENT_TYPE_Caught in, under or between a moving and a stationary object: 0.0029890007933156704\n",
      "ACCIDENT_TYPE_Caught in, under or between running or meshing objects: 0.00039634181728502533\n",
      "ACCIDENT_TYPE_Caught in, under or between two or more moving objects: 6.308185015212031e-05\n",
      "ACCIDENT_TYPE_Contact with electrical current: 0.0022491663756758744\n",
      "ACCIDENT_TYPE_Contact with heat: 0.0\n",
      "ACCIDENT_TYPE_Contact with hot objects or substances: 0.0005028669310561053\n",
      "ACCIDENT_TYPE_Drowning: 4.761810557041728e-06\n",
      "ACCIDENT_TYPE_Fall down raise, shaft or manway: 2.1863676129877306e-05\n",
      "ACCIDENT_TYPE_Fall down stairs: 0.0007711939742847244\n",
      "ACCIDENT_TYPE_Fall from headframe, derrick or tower: 0.0\n",
      "ACCIDENT_TYPE_Fall from ladders: 0.0018578633516112067\n",
      "ACCIDENT_TYPE_Fall from machine: 0.010366897796775965\n",
      "ACCIDENT_TYPE_Fall from piled material: 4.300704640181014e-05\n",
      "ACCIDENT_TYPE_Fall from scaffolds, walkways, platforms: 0.00038780943230430176\n",
      "ACCIDENT_TYPE_Fall on save level, NEC: 5.3943961534867436e-06\n",
      "ACCIDENT_TYPE_Fall onto or against objects: 0.015782697507900414\n",
      "ACCIDENT_TYPE_Fall to lower level, NEC: 0.0018491417845226813\n",
      "ACCIDENT_TYPE_Fall to the walkway or working surface: 0.020566915907564286\n",
      "ACCIDENT_TYPE_Flash burns (electric): 0.0019585183629249802\n",
      "ACCIDENT_TYPE_Flash burns (welding): 0.00010219419234618032\n",
      "ACCIDENT_TYPE_Ingestion of radiations, caustics, toxic and noxious substances: 1.0613305629782223e-05\n",
      "ACCIDENT_TYPE_Inhalation of radiations, caustics, toxic and noxious substances: 0.00016783638014814333\n",
      "ACCIDENT_TYPE_NEC: 0.002540357625598173\n",
      "ACCIDENT_TYPE_Over-exertion NEC: 0.007415212664266121\n",
      "ACCIDENT_TYPE_Over-exertion in lifting objects: 0.008894362491503703\n",
      "ACCIDENT_TYPE_Over-exertion in pulling or pushing objects: 0.002877946057632042\n",
      "ACCIDENT_TYPE_Over-exertion in wielding or throwing objects: 0.00010991474541844712\n",
      "ACCIDENT_TYPE_Rubbed or abraded: 2.3912051788205452e-05\n",
      "ACCIDENT_TYPE_Struck against a moving object: 0.02042155432019312\n",
      "ACCIDENT_TYPE_Struck against stationary object: 0.0015536559240508874\n",
      "ACCIDENT_TYPE_Struck by concussion: 0.00032387827231731376\n",
      "ACCIDENT_TYPE_Struck by falling object: 0.005583424823094461\n",
      "ACCIDENT_TYPE_Struck by flying object: 0.001212935086531486\n",
      "ACCIDENT_TYPE_Struck by powered moving object: 0.0019776955538641414\n",
      "ACCIDENT_TYPE_Struck by rolling or sliding object: 0.00011270446667191758\n",
      "ACCIDENT_TYPE_Struck by... NEC: 0.0076889353983433\n",
      "ACCIDENT_TYPE_Unclassified, insufficient data: 0.0018301577814479977\n",
      "ACCIDENT_TYPE_Unknown: 2.7050208368612082e-05\n",
      "COAL_METAL_IND_C: 2.0864520911216392e-05\n",
      "COAL_METAL_IND_M: 2.4733192944343023e-05\n",
      "\n",
      "Feature Importances (Numerical Data):\n",
      "ACTIVITY_CD: 0.0372530880147578\n",
      "CAL_QTR: 0.003132341016517223\n",
      "CAL_YR: 0.005070117569120149\n",
      "DAYS_LOST: 0.006898322764155481\n",
      "DAYS_RESTRICT: 0.0015857634393652087\n",
      "DEGREE_INJURY_CD: 0.014432126881071134\n",
      "DOCUMENT_NO: 0.00607749668736378\n",
      "EQUIP_MFR_CD: 0.00846548767104795\n",
      "FIPS_STATE_CD: 0.004161108630925346\n",
      "FISCAL_QTR: 0.0030581234757418325\n",
      "FISCAL_YR: 0.005274158945673163\n",
      "INJ_BODY_PART_CD: 0.021045821345528168\n",
      "INJURY_SOURCE_CD: 0.04538233417274995\n",
      "JOB_EXPER: 0.005836491636572008\n",
      "MINE_EXPER: 0.005945344378888157\n",
      "NATURE_INJURY_CD: 0.009329453667603939\n",
      "NO_INJURIES: 0.010986719869768737\n",
      "OCCUPATION_CD: 0.008702555352667474\n",
      "SCHEDULE_CHARGE: 0.0011040618314110033\n",
      "SUBUNIT_CD: 0.004023919212966962\n",
      "TOT_EXPER: 0.005830735081655557\n",
      "UG_LOCATION_CD: 0.005933576698697299\n",
      "UG_MINING_METHOD_CD: 0.0015604582797464357\n"
     ]
    }
   ],
   "source": [
    "# Get the feature names for the text data\n",
    "text_feature_names = vectorizer.get_feature_names_out()\n",
    "\n",
    "# Get the feature names for the one-hot encoded categorical features\n",
    "categorical_feature_names = encoder.get_feature_names(input_features=categorical_columns).tolist()\n",
    "\n",
    "# Get the numerical feature names\n",
    "numerical_feature_names = numerical_columns.tolist()\n",
    "\n",
    "# Create separate dictionaries for feature importances of each data type\n",
    "text_feature_importances = dict(zip(text_feature_names, feature_importances[:len(text_feature_names)]))\n",
    "categorical_feature_importances = dict(zip(categorical_feature_names, feature_importances[len(text_feature_names):len(text_feature_names) + len(categorical_feature_names)]))\n",
    "numerical_feature_importances = dict(zip(numerical_feature_names, feature_importances[len(text_feature_names) + len(categorical_feature_names):]))\n",
    "\"\"\"\n",
    "# Print the feature importances for text data\n",
    "print(\"Feature Importances (Text Data):\")\n",
    "for feature, importance in text_feature_importances.items():\n",
    "    print(f\"{feature}: {importance}\")\"\"\"\n",
    "\n",
    "# Print the feature importances for categorical data\n",
    "print(\"\\nFeature Importances (Categorical Data):\")\n",
    "for feature, importance in categorical_feature_importances.items():\n",
    "    print(f\"{feature}: {importance}\")\n",
    "\n",
    "# Print the feature importances for numerical data\n",
    "print(\"\\nFeature Importances (Numerical Data):\")\n",
    "for feature, importance in numerical_feature_importances.items():\n",
    "    print(f\"{feature}: {importance}\")"
   ]
  },
  {
   "cell_type": "code",
   "execution_count": 49,
   "id": "65deb2f9",
   "metadata": {},
   "outputs": [
    {
     "name": "stdout",
     "output_type": "stream",
     "text": [
      "Accuracy: 0.8918656302054414\n",
      "                                  precision    recall  f1-score   support\n",
      "\n",
      "                      ELECTRICAL       1.00      0.23      0.38        69\n",
      "                      ENTRAPMENT       0.96      0.90      0.93        50\n",
      "EXPLODING VESSELS UNDER PRESSURE       0.00      0.00      0.00        35\n",
      "  EXPLOSIVES AND BREAKING AGENTS       0.00      0.00      0.00         7\n",
      "                  FIRE/EXPLOSION       0.88      0.90      0.89       159\n",
      "           HANDLING OF MATERIALS       0.88      0.98      0.93      4523\n",
      "                         HAULAGE       0.98      0.59      0.74       760\n",
      "                      INUNDATION       0.95      0.74      0.83        27\n",
      "                           OTHER       0.98      0.39      0.56       164\n",
      "          SLIP OR FALL OF PERSON       0.91      0.90      0.90      1403\n",
      "                           TOXIC       0.00      0.00      0.00         7\n",
      "\n",
      "                        accuracy                           0.89      7204\n",
      "                       macro avg       0.69      0.51      0.56      7204\n",
      "                    weighted avg       0.89      0.89      0.88      7204\n",
      "\n"
     ]
    },
    {
     "name": "stderr",
     "output_type": "stream",
     "text": [
      "C:\\Users\\srija\\anaconda3\\lib\\site-packages\\sklearn\\metrics\\_classification.py:1318: UndefinedMetricWarning: Precision and F-score are ill-defined and being set to 0.0 in labels with no predicted samples. Use `zero_division` parameter to control this behavior.\n",
      "  _warn_prf(average, modifier, msg_start, len(result))\n",
      "C:\\Users\\srija\\anaconda3\\lib\\site-packages\\sklearn\\metrics\\_classification.py:1318: UndefinedMetricWarning: Precision and F-score are ill-defined and being set to 0.0 in labels with no predicted samples. Use `zero_division` parameter to control this behavior.\n",
      "  _warn_prf(average, modifier, msg_start, len(result))\n",
      "C:\\Users\\srija\\anaconda3\\lib\\site-packages\\sklearn\\metrics\\_classification.py:1318: UndefinedMetricWarning: Precision and F-score are ill-defined and being set to 0.0 in labels with no predicted samples. Use `zero_division` parameter to control this behavior.\n",
      "  _warn_prf(average, modifier, msg_start, len(result))\n"
     ]
    }
   ],
   "source": [
    "# Encode categorical columns as simple numerical labels not dummy variable\n",
    "label_encoder = LabelEncoder()\n",
    "for col in categorical_columns:\n",
    "    df[col] = label_encoder.fit_transform(df[col])\n",
    "\n",
    "# Separate features (text data and numerical) and target (accident classification)\n",
    "X_text = df[\"processed_narrative\"]\n",
    "X_categorical = df[categorical_columns]\n",
    "X_numerical = df[numerical_columns]\n",
    "y = df[\"CLASSIFICATION\"]\n",
    "\n",
    "# Vectorize the text data (e.g., using TF-IDF)\n",
    "from sklearn.feature_extraction.text import TfidfVectorizer\n",
    "vectorizer = TfidfVectorizer()\n",
    "X_text_vec = vectorizer.fit_transform(X_text)\n",
    "\n",
    "# Combine text and numerical features\n",
    "from scipy.sparse import hstack\n",
    "X_combined = hstack((X_text_vec, X_categorical, X_numerical))\n",
    "\n",
    "# Split the data into training and testing sets\n",
    "from sklearn.model_selection import train_test_split\n",
    "X_train, X_test, y_train, y_test = train_test_split(X_combined, y, test_size=0.2, random_state=42)\n",
    "\n",
    "# Train the Random Forest model\n",
    "from sklearn.ensemble import RandomForestClassifier\n",
    "rf_model = RandomForestClassifier(n_estimators=100, random_state=42)\n",
    "rf_model.fit(X_train, y_train)\n",
    "\n",
    "# Make predictions on the test set\n",
    "y_pred = rf_model.predict(X_test)\n",
    "\n",
    "# Evaluate the model\n",
    "from sklearn.metrics import accuracy_score, classification_report\n",
    "accuracy = accuracy_score(y_test, y_pred)\n",
    "print(\"Accuracy:\", accuracy)\n",
    "print(classification_report(y_test, y_pred))"
   ]
  },
  {
   "cell_type": "code",
   "execution_count": 54,
   "id": "7c8f1fe0",
   "metadata": {},
   "outputs": [
    {
     "name": "stdout",
     "output_type": "stream",
     "text": [
      "\n",
      "Feature Importances:\n",
      "ACCIDENT_TYPE: 0.00029171879762111965\n",
      "COAL_METAL_IND: 1.5140379537117276e-05\n",
      "ACTIVITY_CD: 5.257662056253337e-06\n",
      "CAL_QTR: 2.756301673023301e-06\n",
      "CAL_YR: 0.00011789444028198422\n",
      "DAYS_LOST: 6.372928738991686e-05\n",
      "DAYS_RESTRICT: 4.193765330369145e-05\n",
      "DEGREE_INJURY_CD: 0.0\n",
      "DOCUMENT_NO: 8.965979265911402e-06\n",
      "EQUIP_MFR_CD: 3.3778784921295094e-06\n",
      "FIPS_STATE_CD: 1.0165120658207986e-06\n",
      "FISCAL_QTR: 5.169062994931608e-08\n",
      "FISCAL_YR: 9.048730878840112e-08\n",
      "INJ_BODY_PART_CD: 1.4253952339029094e-09\n",
      "INJURY_SOURCE_CD: 0.0\n",
      "JOB_EXPER: 9.060431992650061e-06\n",
      "MINE_EXPER: 1.184711105737149e-07\n",
      "NATURE_INJURY_CD: 0.0\n",
      "NO_INJURIES: 9.223712506389497e-06\n",
      "OCCUPATION_CD: 0.00031611541560344435\n",
      "SCHEDULE_CHARGE: 1.0479020135872293e-05\n",
      "SUBUNIT_CD: 1.3446066772410785e-05\n",
      "TOT_EXPER: 0.0\n",
      "UG_LOCATION_CD: 1.234605152249545e-06\n",
      "UG_MINING_METHOD_CD: 1.0248643837901737e-06\n"
     ]
    }
   ],
   "source": [
    "# Get feature importances\n",
    "feature_importances = rf_model.feature_importances_\n",
    "# Combine all feature names\n",
    "feature_names = categorical_columns.tolist() + numerical_columns.tolist() # +vectorizer.get_feature_names_out()\n",
    "\n",
    "# Create a dictionary to associate feature names with their importances\n",
    "feature_importances_dict = dict(zip(feature_names, feature_importances))\n",
    "\n",
    "# Print the feature importances\n",
    "print(\"\\nFeature Importances:\")\n",
    "for feature, importance in feature_importances_dict.items():\n",
    "    print(f\"{feature}: {importance}\")"
   ]
  }
 ],
 "metadata": {
  "kernelspec": {
   "display_name": "Python 3 (ipykernel)",
   "language": "python",
   "name": "python3"
  },
  "language_info": {
   "codemirror_mode": {
    "name": "ipython",
    "version": 3
   },
   "file_extension": ".py",
   "mimetype": "text/x-python",
   "name": "python",
   "nbconvert_exporter": "python",
   "pygments_lexer": "ipython3",
   "version": "3.9.12"
  }
 },
 "nbformat": 4,
 "nbformat_minor": 5
}
